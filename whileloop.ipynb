{
 "cells": [
  {
   "cell_type": "code",
   "execution_count": 1,
   "id": "e17743ce-9d36-4cbc-8a16-cfced67eb905",
   "metadata": {},
   "outputs": [
    {
     "name": "stdout",
     "output_type": "stream",
     "text": [
      "1\n",
      "2\n",
      "3\n",
      "4\n",
      "5\n",
      "6\n",
      "7\n",
      "8\n",
      "9\n",
      "10\n"
     ]
    }
   ],
   "source": [
    "# using while loop\n",
    "# Q no: 01\n",
    "# print number 1 to 10\n",
    "num = 1\n",
    "while num <= 10:\n",
    "    print(num)\n",
    "    num += 1"
   ]
  },
  {
   "cell_type": "code",
   "execution_count": 3,
   "id": "c7fc3ed6-56d2-4e5e-9157-d02e7869a2a2",
   "metadata": {},
   "outputs": [
    {
     "name": "stdout",
     "output_type": "stream",
     "text": [
      "2\n",
      "4\n",
      "6\n",
      "8\n",
      "10\n",
      "12\n",
      "14\n",
      "16\n",
      "18\n",
      "20\n"
     ]
    }
   ],
   "source": [
    "# Q no : 02\n",
    "# print all number 0 to 20.\n",
    "num = 1\n",
    "while num <= 20:\n",
    "    if num % 2 == 0:\n",
    "        print(num)\n",
    "    num += 1"
   ]
  },
  {
   "cell_type": "code",
   "execution_count": 5,
   "id": "fd94d753-4338-4948-948b-06237d4abfd4",
   "metadata": {},
   "outputs": [
    {
     "name": "stdout",
     "output_type": "stream",
     "text": [
      "Sum of the first 10 natural numbers: 55\n"
     ]
    }
   ],
   "source": [
    "#Calculate the sum of the first 10 natural numbers\n",
    "# Q no : 03\n",
    "num = 1\n",
    "total = 0\n",
    "while num <= 10:\n",
    "    total += num\n",
    "    num += 1\n",
    "print(f\"Sum of the first 10 natural numbers: {total}\")"
   ]
  },
  {
   "cell_type": "code",
   "execution_count": 13,
   "id": "65009c8c-6de7-4816-a726-c6f4151cb8c1",
   "metadata": {},
   "outputs": [
    {
     "name": "stdin",
     "output_type": "stream",
     "text": [
      "Enter a number (negative to stop):  3\n",
      "Enter a number (negative to stop):  4\n",
      "Enter a number (negative to stop):  -1\n"
     ]
    },
    {
     "name": "stdout",
     "output_type": "stream",
     "text": [
      "Total sum: -2\n"
     ]
    }
   ],
   "source": [
    "# Q no : 04\n",
    "# user input with condition\n",
    "sum = 0\n",
    "while True:\n",
    "    number = int(input(\"Enter a number (negative to stop): \"))\n",
    "    if number < 0:\n",
    "        break\n",
    "    sum += user_input\n",
    "print(f\"Total sum: {sum}\")"
   ]
  },
  {
   "cell_type": "code",
   "execution_count": 9,
   "id": "633d9e57-ec2d-4053-b19b-8eb6fc51bbdb",
   "metadata": {},
   "outputs": [
    {
     "name": "stdin",
     "output_type": "stream",
     "text": [
      "Guess number between 1 and 100: 70\n"
     ]
    },
    {
     "name": "stdout",
     "output_type": "stream",
     "text": [
      "Higher than correct guess\n"
     ]
    },
    {
     "name": "stdin",
     "output_type": "stream",
     "text": [
      "Guess number between 1 and 100: 80\n"
     ]
    },
    {
     "name": "stdout",
     "output_type": "stream",
     "text": [
      "Higher than correct guess\n"
     ]
    },
    {
     "name": "stdin",
     "output_type": "stream",
     "text": [
      "Guess number between 1 and 100: 60\n"
     ]
    },
    {
     "name": "stdout",
     "output_type": "stream",
     "text": [
      "You have guessed right\n"
     ]
    }
   ],
   "source": [
    " # Number Guessing Game\n",
    "correct_number=60\n",
    "guess=0\n",
    "while True:\n",
    "    guess=int(input('Guess number between 1 and 100:'))\n",
    "    if guess==correct_number:\n",
    "        print('You have guessed right')\n",
    "        break\n",
    "    elif guess<correct_number:\n",
    "        print('Lower than correct guess')\n",
    "    else:\n",
    "        print('Higher than correct guess')"
   ]
  },
  {
   "cell_type": "code",
   "execution_count": 17,
   "id": "b08be107-2ce5-4dfd-9c11-5638afb8e0d9",
   "metadata": {},
   "outputs": [
    {
     "name": "stdin",
     "output_type": "stream",
     "text": [
      "Enter a positive integer:  4\n"
     ]
    },
    {
     "name": "stdout",
     "output_type": "stream",
     "text": [
      "Factorial: 24\n"
     ]
    }
   ],
   "source": [
    "# Factorial calculation\n",
    "# Q no : 06\n",
    "num = int(input(\"Enter a positive integer: \"))\n",
    "factorial = 1\n",
    "\n",
    "if num < 0:\n",
    "    print(\"Factorial is not defined for negative numbers.\")\n",
    "else:\n",
    "    while num > 0:\n",
    "        factorial *= num\n",
    "        num -= 1\n",
    "    print(f\"Factorial: {factorial}\")"
   ]
  },
  {
   "cell_type": "code",
   "execution_count": 7,
   "id": "2b207a40-d2cd-4365-9546-189b65787409",
   "metadata": {},
   "outputs": [
    {
     "name": "stdin",
     "output_type": "stream",
     "text": [
      "Enter a number or('done' to finish): 2\n",
      "Enter a number or('done' to finish): done\n"
     ]
    },
    {
     "name": "stdout",
     "output_type": "stream",
     "text": [
      "Average: 2.0\n"
     ]
    }
   ],
   "source": [
    "# Average calculator\n",
    "# Q no : 07\n",
    "total = 0\n",
    "count = 0\n",
    "while True:\n",
    "    number=input(\"Enter a number or('done' to finish):\")\n",
    "    if number.lower()=='done':\n",
    "        break\n",
    "    else:\n",
    "        total+=float(number)\n",
    "        count+=1\n",
    "print('Average:', total/count)\n"
   ]
  },
  {
   "cell_type": "code",
   "execution_count": 19,
   "id": "251d702e-3638-4e7a-b56f-92f1e07e1cb1",
   "metadata": {},
   "outputs": [
    {
     "name": "stdin",
     "output_type": "stream",
     "text": [
      "Enter a positive number:  6\n"
     ]
    },
    {
     "name": "stdout",
     "output_type": "stream",
     "text": [
      "Fibonacci sequence:\n",
      "0 1 1 2 3 5 "
     ]
    }
   ],
   "source": [
    "# Fibonacci sequence\n",
    "# Q no : 08\n",
    "n = int(input(\"Enter a positive number: \"))\n",
    "a, b = 0, 1\n",
    "\n",
    "print(\"Fibonacci sequence:\")\n",
    "while a <= n:\n",
    "    print(a, end=\" \")\n",
    "    a, b = b, a + b"
   ]
  },
  {
   "cell_type": "code",
   "execution_count": null,
   "id": "b7647f3a-a43f-449f-a5fb-5b51e70f869c",
   "metadata": {},
   "outputs": [],
   "source": []
  }
 ],
 "metadata": {
  "kernelspec": {
   "display_name": "Python 3 (ipykernel)",
   "language": "python",
   "name": "python3"
  },
  "language_info": {
   "codemirror_mode": {
    "name": "ipython",
    "version": 3
   },
   "file_extension": ".py",
   "mimetype": "text/x-python",
   "name": "python",
   "nbconvert_exporter": "python",
   "pygments_lexer": "ipython3",
   "version": "3.12.4"
  }
 },
 "nbformat": 4,
 "nbformat_minor": 5
}
