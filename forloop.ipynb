{
 "cells": [
  {
   "cell_type": "code",
   "execution_count": 5,
   "id": "fb58acd6-857e-4878-873e-fc283ad4fb4c",
   "metadata": {},
   "outputs": [
    {
     "name": "stdout",
     "output_type": "stream",
     "text": [
      "Gunjun sucksena\n",
      "genius\n",
      "12 Fail\n",
      "0: Gunjun sucksena\n",
      "1: genius\n",
      "2: 12 Fail\n"
     ]
    }
   ],
   "source": [
    "# using For loop\n",
    "# Q no: 01\n",
    "# List of favorite movies\n",
    "movies = [\"Gunjun sucksena\", \"genius\", \"12 Fail\"]\n",
    "\n",
    "# Print each movie title\n",
    "for movie in movies:\n",
    "    print(movie)\n",
    "\n",
    "# Print the index and title of each movie\n",
    "for index, movie in enumerate(movies):\n",
    "    print(f\"{index}: {movie}\")"
   ]
  },
  {
   "cell_type": "code",
   "execution_count": 7,
   "id": "8ca59bb8-07f7-4707-8144-ce823a16b322",
   "metadata": {},
   "outputs": [
    {
     "name": "stdout",
     "output_type": "stream",
     "text": [
      "M\n",
      "a\n",
      "n\n",
      "i\n",
      "s\n",
      "h\n",
      "a\n",
      " \n",
      "B\n",
      "i\n",
      "b\n",
      "i\n",
      "Number of vowels: 5\n"
     ]
    }
   ],
   "source": [
    "# Q no:02\n",
    "# Full name string\n",
    "full_name = \"Manisha Bibi\"\n",
    "\n",
    "# Print each character on a new line\n",
    "for char in full_name:\n",
    "    print(char)\n",
    "\n",
    "# Count vowels in the string\n",
    "vowels = \"aeiouAEIOU\"\n",
    "vowel_count = 0\n",
    "for char in full_name:\n",
    "    if char in vowels:\n",
    "        vowel_count += 1\n",
    "print(f\"Number of vowels: {vowel_count}\")"
   ]
  },
  {
   "cell_type": "code",
   "execution_count": 9,
   "id": "1480329b-882d-4240-b936-2bfdb04666f9",
   "metadata": {},
   "outputs": [
    {
     "name": "stdout",
     "output_type": "stream",
     "text": [
      "Ali: 85\n",
      "Sara: 92\n",
      "Ahmed: 88\n",
      "Zara: 95\n",
      "Highest grade: Zara with 95\n"
     ]
    }
   ],
   "source": [
    "# Q no: 03\n",
    "# Dictionary of students and grades\n",
    "grades = {\"Ali\": 85, \"Sara\": 92, \"Ahmed\": 88, \"Zara\": 95}\n",
    "\n",
    "# Print each name and grade\n",
    "for student, grade in grades.items():\n",
    "    print(f\"{student}: {grade}\")\n",
    "\n",
    "# Find the student with the highest grade\n",
    "highest_student = max(grades, key=grades.get)\n",
    "print(f\"Highest grade: {highest_student} with {grades[highest_student]}\")"
   ]
  },
  {
   "cell_type": "code",
   "execution_count": 11,
   "id": "af2f9b76-cb7f-4b7e-a188-ef21d90e4914",
   "metadata": {},
   "outputs": [
    {
     "name": "stdout",
     "output_type": "stream",
     "text": [
      "1 2 3 \n",
      "4 5 6 \n",
      "7 8 9 \n",
      "Sum of all elements: 45\n"
     ]
    }
   ],
   "source": [
    "# Q no: 04\n",
    "# 2D list (matrix)\n",
    "matrix = [\n",
    "    [1, 2, 3],\n",
    "    [4, 5, 6],\n",
    "    [7, 8, 9]\n",
    "]\n",
    "\n",
    "# Print each element\n",
    "for row in matrix:\n",
    "    for elem in row:\n",
    "        print(elem, end=\" \")\n",
    "    print()\n",
    "\n",
    "# Calculate the sum of all elements\n",
    "total_sum = 0\n",
    "for row in matrix:\n",
    "    total_sum += sum(row)\n",
    "print(f\"Sum of all elements: {total_sum}\")"
   ]
  },
  {
   "cell_type": "code",
   "execution_count": 13,
   "id": "f0e24d54-7495-4ad2-919d-6ecc3dd9d8a4",
   "metadata": {},
   "outputs": [
    {
     "name": "stdout",
     "output_type": "stream",
     "text": [
      "Squares using for loop: [1, 4, 9, 16, 25, 36, 49, 64, 81, 100]\n",
      "Squares using list comprehension: [1, 4, 9, 16, 25, 36, 49, 64, 81, 100]\n"
     ]
    }
   ],
   "source": [
    "# Q no: 05\n",
    "# Using a for loop\n",
    "squares = []\n",
    "for num in range(1, 11):\n",
    "    squares.append(num ** 2)\n",
    "print(f\"Squares using for loop: {squares}\")\n",
    "\n",
    "# Using list comprehension\n",
    "squares_comp = [num ** 2 for num in range(1, 11)]\n",
    "print(f\"Squares using list comprehension: {squares_comp}\")"
   ]
  },
  {
   "cell_type": "code",
   "execution_count": null,
   "id": "73215cba-0793-45c3-9b33-53dd22b7c0dd",
   "metadata": {},
   "outputs": [],
   "source": []
  }
 ],
 "metadata": {
  "kernelspec": {
   "display_name": "Python 3 (ipykernel)",
   "language": "python",
   "name": "python3"
  },
  "language_info": {
   "codemirror_mode": {
    "name": "ipython",
    "version": 3
   },
   "file_extension": ".py",
   "mimetype": "text/x-python",
   "name": "python",
   "nbconvert_exporter": "python",
   "pygments_lexer": "ipython3",
   "version": "3.12.4"
  }
 },
 "nbformat": 4,
 "nbformat_minor": 5
}
